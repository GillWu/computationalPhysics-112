{
 "cells": [
  {
   "cell_type": "code",
   "execution_count": 1,
   "metadata": {},
   "outputs": [],
   "source": [
    "import numpy as np\n",
    "import matplotlib.pyplot as plt\n",
    "from nbody import Particles"
   ]
  },
  {
   "cell_type": "markdown",
   "metadata": {},
   "source": [
    "# The `Particles` class\n",
    "\n",
    "We could write a `Particles` python class to handle the particle information.\n",
    "The class contains several physical properties, including tag, mass, position, velocity, acceleration, and time.\n",
    "\n",
    "For our own convenience, we want to have the below data type to handle the N-body simulation:"
   ]
  },
  {
   "cell_type": "code",
   "execution_count": 2,
   "metadata": {},
   "outputs": [],
   "source": [
    "time          = 0    # the starting  time\n",
    "num_particles = 100  # number of particles\n",
    "masses        = np.ones((num_particles,1))\n",
    "positions     = np.zeros((num_particles,3)) # 3 directions\n",
    "velocities    = np.zeros((num_particles,3))\n",
    "accelerations = np.zeros((num_particles,3))\n",
    "tags          = np.linspace(1,num_particles,num_particles)"
   ]
  },
  {
   "cell_type": "markdown",
   "metadata": {},
   "source": [
    "Note that, the mass is setting to a Nx1 martrix.\\\n",
    "The reason to use Nx1 matrix but not a 1D numpy array is because mass x velcoity is the momentum\\\n",
    "and only Nx1 matrix could multiple with an Nx3 matrix.\n",
    "\n",
    "The particles class can be initialized by"
   ]
  },
  {
   "cell_type": "code",
   "execution_count": 3,
   "metadata": {},
   "outputs": [
    {
     "name": "stdout",
     "output_type": "stream",
     "text": [
      "(100, 1)\n"
     ]
    }
   ],
   "source": [
    "particles = Particles(N=num_particles)\n",
    "print(masses.shape)"
   ]
  },
  {
   "cell_type": "code",
   "execution_count": 4,
   "metadata": {},
   "outputs": [
    {
     "name": "stdout",
     "output_type": "stream",
     "text": [
      "[[0.14952472 0.7044883  0.46996658]\n",
      " [0.17544299 0.76770496 0.76978982]\n",
      " [0.8468158  0.17559784 0.29877026]\n",
      " [0.1639147  0.97020041 0.12054729]\n",
      " [0.66186524 0.13262961 0.66698437]\n",
      " [0.55139811 0.16675218 0.738015  ]\n",
      " [0.62354861 0.48056806 0.49245735]\n",
      " [0.57087507 0.12803092 0.31329115]\n",
      " [0.73763905 0.44368703 0.91481809]\n",
      " [0.37600527 0.29253173 0.8557081 ]\n",
      " [0.52535848 0.6914539  0.08393265]\n",
      " [0.56480909 0.9256898  0.20300582]\n",
      " [0.59432811 0.22243167 0.1667343 ]\n",
      " [0.18165108 0.20742541 0.89856894]\n",
      " [0.02454684 0.22728234 0.2556766 ]\n",
      " [0.37618424 0.92356895 0.35780435]\n",
      " [0.4531278  0.64744604 0.54183749]\n",
      " [0.22629714 0.0055905  0.85329717]\n",
      " [0.14856962 0.96658886 0.99105647]\n",
      " [0.82267917 0.61502627 0.40362024]\n",
      " [0.286636   0.27700001 0.4820971 ]\n",
      " [0.76851488 0.19869171 0.68148708]\n",
      " [0.75098638 0.74522688 0.28774033]\n",
      " [0.93112936 0.71146851 0.31683132]\n",
      " [0.87094653 0.51888049 0.63779202]\n",
      " [0.7463802  0.14084529 0.51451817]\n",
      " [0.78954082 0.70648124 0.53413064]\n",
      " [0.27499945 0.2771957  0.23167596]\n",
      " [0.21794591 0.64184795 0.32273275]\n",
      " [0.94042043 0.99905074 0.77114532]\n",
      " [0.6578138  0.54125038 0.44929993]\n",
      " [0.68028708 0.34246913 0.21758934]\n",
      " [0.0192162  0.23808126 0.97174377]\n",
      " [0.22490301 0.94720072 0.46077042]\n",
      " [0.27448429 0.90177177 0.44887409]\n",
      " [0.46617283 0.51820694 0.9462608 ]\n",
      " [0.71642181 0.07034363 0.96230097]\n",
      " [0.34634405 0.31531128 0.50617705]\n",
      " [0.43809631 0.63424713 0.68144948]\n",
      " [0.87558513 0.48138601 0.91206945]\n",
      " [0.8027806  0.63658001 0.83847736]\n",
      " [0.45793766 0.21125026 0.3726283 ]\n",
      " [0.33425446 0.29107121 0.96112902]\n",
      " [0.48815402 0.80847936 0.29008468]\n",
      " [0.47729214 0.35419415 0.21155141]\n",
      " [0.63654939 0.40271849 0.18663155]\n",
      " [0.39676695 0.99304908 0.85647976]\n",
      " [0.49848668 0.36116399 0.89821455]\n",
      " [0.50489471 0.187004   0.14975628]\n",
      " [0.49146492 0.83466586 0.51573882]\n",
      " [0.51342197 0.85405744 0.45051673]\n",
      " [0.17003635 0.70066291 0.32074863]\n",
      " [0.33304031 0.02835547 0.57470557]\n",
      " [0.89079722 0.51834696 0.23426491]\n",
      " [0.36030365 0.23171115 0.06504052]\n",
      " [0.44930595 0.45936715 0.85143687]\n",
      " [0.48462747 0.19136044 0.45161438]\n",
      " [0.85237216 0.17733772 0.40995086]\n",
      " [0.64501396 0.72536434 0.85934476]\n",
      " [0.85688967 0.10201373 0.98474182]\n",
      " [0.88488519 0.01478026 0.48932983]\n",
      " [0.94473542 0.38036494 0.16415129]\n",
      " [0.05114306 0.06722285 0.15225996]\n",
      " [0.80218217 0.57006143 0.02492407]\n",
      " [0.00532038 0.10400831 0.55231155]\n",
      " [0.05830824 0.7933089  0.98367172]\n",
      " [0.88697831 0.01060565 0.12278635]\n",
      " [0.82033622 0.54674759 0.46860024]\n",
      " [0.89440252 0.18601121 0.01784841]\n",
      " [0.98750627 0.04537224 0.1574477 ]\n",
      " [0.01451973 0.53618424 0.18580121]\n",
      " [0.18171776 0.21499941 0.74942492]\n",
      " [0.96856987 0.57573095 0.41280371]\n",
      " [0.23167189 0.51517946 0.61897023]\n",
      " [0.81836889 0.59452287 0.10592118]\n",
      " [0.00948315 0.45316833 0.72539997]\n",
      " [0.83588957 0.3352286  0.56967299]\n",
      " [0.57856967 0.14901898 0.0511557 ]\n",
      " [0.83516927 0.24161088 0.31468588]\n",
      " [0.30986585 0.87634266 0.85398564]\n",
      " [0.74029913 0.48532327 0.14866836]\n",
      " [0.75231419 0.68266414 0.20048873]\n",
      " [0.58953311 0.19925854 0.55575697]\n",
      " [0.76092511 0.59436946 0.80542627]\n",
      " [0.17305329 0.33270744 0.75176655]\n",
      " [0.73905766 0.80397471 0.8725503 ]\n",
      " [0.25605871 0.08623484 0.83914773]\n",
      " [0.25975307 0.14770911 0.26878909]\n",
      " [0.3006114  0.81132686 0.61022298]\n",
      " [0.69876623 0.34417453 0.43307442]\n",
      " [0.87437198 0.47912396 0.92527895]\n",
      " [0.37328707 0.22006073 0.51674794]\n",
      " [0.64092184 0.06827427 0.46166193]\n",
      " [0.95302008 0.11634723 0.02806139]\n",
      " [0.69395364 0.10165059 0.1523173 ]\n",
      " [0.52244464 0.10534834 0.40053884]\n",
      " [0.69319906 0.28952815 0.96430473]\n",
      " [0.15721872 0.06980404 0.88837272]\n",
      " [0.62839307 0.50441424 0.78875875]\n",
      " [0.43287443 0.8658095  0.62476691]]\n"
     ]
    }
   ],
   "source": [
    "particles.masses = np.ones((num_particles,1))\n",
    "particles.positions = np.random.rand(num_particles, 3)\n",
    "particles.velocities = np.random.rand(num_particles, 3)\n",
    "particles.accelerations = np.random.rand(num_particles, 3)\n",
    "particles.tags = np.linspace(1,num_particles,num_particles)\n",
    "print(particles.velocities)"
   ]
  },
  {
   "cell_type": "markdown",
   "metadata": {},
   "source": [
    "Make sure your code will check the shape of your inputs. It must return errors when setting an incorrect shape."
   ]
  },
  {
   "cell_type": "code",
   "execution_count": 5,
   "metadata": {},
   "outputs": [],
   "source": [
    "# make sure the below codes will return an error. uncomment each line to test\n",
    "\n",
    "#particles.masses = np.ones(num_particles)\n",
    "#particles.positions = np.random.rand(199, 3)\n",
    "#particles.velocities = np.random.rand(500, 3)\n",
    "#particles.accelerations = np.random.rand(num_particles, 2)\n",
    "#particles.tags = np.linspace(1,num_particles,500)"
   ]
  },
  {
   "cell_type": "markdown",
   "metadata": {},
   "source": [
    "# Add (remove) more particles\n",
    "\n",
    "We could add more particles on the fly."
   ]
  },
  {
   "cell_type": "code",
   "execution_count": 6,
   "metadata": {},
   "outputs": [
    {
     "name": "stdout",
     "output_type": "stream",
     "text": [
      "120\n"
     ]
    }
   ],
   "source": [
    "num_particles = 20\n",
    "masses = np.ones((num_particles,1))\n",
    "positions = np.random.rand(num_particles, 3)\n",
    "velocities = np.random.rand(num_particles, 3)\n",
    "accelerations = np.random.rand(num_particles, 3)\n",
    "\n",
    "particles.add_particles(masses, positions, velocities, accelerations)\n",
    "print(particles.nparticles)"
   ]
  },
  {
   "cell_type": "markdown",
   "metadata": {},
   "source": [
    "### Data IO\n",
    "\n",
    "We could also dump the particle information into a text file."
   ]
  },
  {
   "cell_type": "code",
   "execution_count": 7,
   "metadata": {},
   "outputs": [],
   "source": [
    "particles.output(filename='data.txt')"
   ]
  },
  {
   "cell_type": "markdown",
   "metadata": {},
   "source": [
    "### Visualization\n",
    "\n",
    "We could also visualize (both 2D and 3D) these particles"
   ]
  },
  {
   "cell_type": "code",
   "execution_count": 8,
   "metadata": {},
   "outputs": [
    {
     "ename": "AttributeError",
     "evalue": "'Particles' object has no attribute 'draw'",
     "output_type": "error",
     "traceback": [
      "\u001b[1;31m---------------------------------------------------------------------------\u001b[0m",
      "\u001b[1;31mAttributeError\u001b[0m                            Traceback (most recent call last)",
      "Cell \u001b[1;32mIn[8], line 1\u001b[0m\n\u001b[1;32m----> 1\u001b[0m \u001b[43mparticles\u001b[49m\u001b[38;5;241;43m.\u001b[39;49m\u001b[43mdraw\u001b[49m(dim\u001b[38;5;241m=\u001b[39m\u001b[38;5;241m2\u001b[39m)\n",
      "\u001b[1;31mAttributeError\u001b[0m: 'Particles' object has no attribute 'draw'"
     ]
    }
   ],
   "source": [
    "particles.draw(dim=2)"
   ]
  },
  {
   "cell_type": "code",
   "execution_count": null,
   "metadata": {},
   "outputs": [],
   "source": [
    "particles.draw(dim=3)"
   ]
  },
  {
   "cell_type": "markdown",
   "metadata": {},
   "source": [
    "# Exercise 1\n",
    "\n",
    "Implment the `Particles` class in `./nbody/particles.py`. Please make sure your Particles class has passed all the test in the above section. "
   ]
  },
  {
   "cell_type": "code",
   "execution_count": null,
   "metadata": {},
   "outputs": [],
   "source": [
    "# TODO: test your class here\n",
    "\n",
    "\n",
    "\n",
    "\n",
    "\n"
   ]
  },
  {
   "cell_type": "markdown",
   "metadata": {},
   "source": [
    "# Exercise 2\n",
    "\n",
    "Once you have the `Particles` class implmented correctly.\\\n",
    "You should be able to use it to initialzie arbitry distribution of N particles.\n",
    "\n",
    "(1) Initialize two particles that describe the Sun-Earth binary system.\n",
    "\n",
    "(2) Initialize a 3D particle clould with N=1000 particles in a normal distrbuiotn (sigma=1) and total mass equal to 10.\n",
    "\n",
    "Hints: use `numpy.random.randn` (see https://numpy.org/doc/stable/reference/random/generated/numpy.random.randn.html). "
   ]
  },
  {
   "cell_type": "code",
   "execution_count": null,
   "metadata": {},
   "outputs": [],
   "source": [
    "# TODO:\n",
    "\n",
    "\n",
    "\n",
    "\n"
   ]
  }
 ],
 "metadata": {
  "kernelspec": {
   "display_name": "comphys-112",
   "language": "python",
   "name": "python3"
  },
  "language_info": {
   "codemirror_mode": {
    "name": "ipython",
    "version": 3
   },
   "file_extension": ".py",
   "mimetype": "text/x-python",
   "name": "python",
   "nbconvert_exporter": "python",
   "pygments_lexer": "ipython3",
   "version": "3.10.9"
  }
 },
 "nbformat": 4,
 "nbformat_minor": 2
}
