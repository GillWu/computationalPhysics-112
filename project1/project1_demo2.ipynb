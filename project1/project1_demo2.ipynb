{
 "cells": [
  {
   "cell_type": "markdown",
   "metadata": {},
   "source": [
    "# Demo2: Simple Harmonic Oscillator with RK2/RK4\n",
    "\n",
    "In this jupyter notebook, we will learn how to use the Runge-Kutta 2/4 methods to solve for the motions of a simple harmonic oscillaotr.\n",
    "\n",
    "&copy; Kuo-Chuan Pan, 2024\\\n",
    "For the course \"Computational Physics\" at NTHU\n",
    "\n",
    "### Governing equations\n",
    "\n",
    "The governing equations are \n",
    "$$\n",
    "a^{t^n} = - \\omega_0^2 x^{t^n},\n",
    "$$\n",
    "\n",
    "$$\n",
    "\\frac{dx}{dt} = v,\n",
    "$$\n",
    "and \n",
    "$$\n",
    "\\frac{dv}{dt} = a.\n",
    "$$\n",
    "\n",
    "\n",
    "### Runge-Jutta methods\n",
    "\n",
    "Higher-order explicit schemes.\n",
    "\n",
    "* RK2\n",
    "\n",
    "$$\n",
    "y_{k+1} = y_k + \\frac{h_k}{2}(k_1 + k2),\n",
    "$$\n",
    "where $k_1 = f(t_k, y_k)$ and $k_2 = f(t_k+h_k, y_k + h_k k1)$.\n",
    "\n",
    "* RK4\n",
    "\n",
    "$$\n",
    "y_{k+1} = y_k + \\frac{h_k}{6}(k_1 +2k_2 +2k_3+k_4),\n",
    "$$\n",
    "where $k_1= f(t_k,y_k)$, $k_2=f(t_k+h_k/2, y_k + (h_k/2)k_1)$,\n",
    "$k_3=f(t_k+h_k/2, y_k + (h_k/2)k_2)$, and $k_4=f(t_k+h_k, y_k+h_k k3)$.\n",
    "\n",
    "\n",
    "### Initial Conditions\n",
    "\n",
    "At time $t=0$, position $x=1$ and velocity $v=0$.\\\n",
    "Set $A=k=m=1$, and $\\omega_0=\\sqrt{k/m}=1$ as well.\n",
    "\n",
    "## Exercie 1: Redo demo1 with the RK2 method\n",
    "Use a small time step $\\Delta t=0.01$ and solve for the solution at $t=20$."
   ]
  },
  {
   "cell_type": "code",
   "execution_count": 1,
   "metadata": {},
   "outputs": [],
   "source": [
    "# import required libraries\n",
    "import numpy as np\n",
    "import matplotlib.pyplot as plt"
   ]
  },
  {
   "cell_type": "code",
   "execution_count": 44,
   "metadata": {},
   "outputs": [],
   "source": [
    "#\n",
    "# This is a simple example of how to solve a simple harmonic oscillator using the RK2 method\n",
    "#\n",
    "\n",
    "# Step 1: set up the parameters of the problem\n",
    "A=1\n",
    "k=1\n",
    "m=1\n",
    "omega0 = np.sqrt(k/m)\n",
    "dt = 0.01\n",
    "\n",
    "# Step 2: set up the time and solution arrays\n",
    "T = np.linspace(0,20,int(20/dt)+1,endpoint=True)\n",
    "position = np.zeros(len(T))\n",
    "velocity = np.zeros(len(T))\n",
    "position[0] = 1\n",
    "velocity[0] = 0\n",
    "\n",
    "y = np.array([position[0],velocity[0]])\n",
    "\n",
    "\n",
    "for i in range(1,len(T)):\n",
    "    t = T[i-1]\n",
    "\n",
    "    def f(t,y):\n",
    "        return np.array(y[1],-omega0**2*y[0])\n",
    "    \n",
    "    k1 = f(t,y)\n",
    "    k2 = f(t+dt,y+dt*k1)\n",
    "\n",
    "    y = y + 0.5*dt*(k1+k2)\n",
    "    \n",
    "    position[i] = y[0]\n",
    "    velocity[i] = y[1]\n",
    "\n",
    "\n",
    "\n",
    "\n",
    "\n"
   ]
  },
  {
   "cell_type": "code",
   "execution_count": 45,
   "metadata": {},
   "outputs": [
    {
     "data": {
      "image/png": "[encoded data removed]",
      "text/plain": [
       "<Figure size 640x480 with 1 Axes>"
      ]
     },
     "metadata": {},
     "output_type": "display_data"
    }
   ],
   "source": [
    "# Step 5: plot the solution\n",
    "plt.plot(T,position)\n",
    "plt.xlabel('Time (s)')\n",
    "plt.ylabel('Position (m)')\n",
    "plt.title('Simple Harmonic Motion')\n",
    "plt.show()"
   ]
  },
  {
   "cell_type": "markdown",
   "metadata": {},
   "source": [
    "We could verify our numerical solution be comparing it with the analytical solutions.\n",
    "The analytical solutions are:\n",
    "\n",
    "$$\n",
    "x = A \\cos(\\omega_0 t + \\phi),\n",
    "$$\n",
    "and\n",
    "\n",
    "$$\n",
    "v = -A \\omega_0 \\sin(\\omega_0 t + \\delta)."
   ]
  },
  {
   "cell_type": "code",
   "execution_count": null,
   "metadata": {},
   "outputs": [],
   "source": [
    "# Step 6: evaluate the analytical solution\n",
    "\n",
    "# TODO:\n",
    "\n",
    "\n",
    "\n",
    "\n"
   ]
  },
  {
   "cell_type": "markdown",
   "metadata": {},
   "source": [
    "Another way to chekc the accuray of our numerical solution is to check the energy conservation and the phase-sapce diagram."
   ]
  },
  {
   "cell_type": "code",
   "execution_count": null,
   "metadata": {},
   "outputs": [],
   "source": [
    "# Step 7: evaluate the energy (error) of the system\n",
    "\n",
    "# TODO:\n",
    "\n",
    "\n",
    "\n"
   ]
  },
  {
   "cell_type": "code",
   "execution_count": null,
   "metadata": {},
   "outputs": [],
   "source": [
    "# Step 8: evaluate the phase space\n",
    "\n",
    "# TODO:\n",
    "\n",
    "\n",
    "\n",
    "\n"
   ]
  },
  {
   "cell_type": "markdown",
   "metadata": {},
   "source": [
    "## Exercise 2: Repeat with RK4\n"
   ]
  },
  {
   "cell_type": "code",
   "execution_count": null,
   "metadata": {},
   "outputs": [],
   "source": [
    "#\n",
    "# This is a simple example of how to solve a simple harmonic oscillator using the RK4 method\n",
    "#\n",
    "\n",
    "# TODO:\n",
    "\n",
    "\n",
    "\n",
    "\n",
    "\n",
    "\n",
    "\n"
   ]
  }
 ],
 "metadata": {
  "kernelspec": {
   "display_name": "comphys-112",
   "language": "python",
   "name": "python3"
  },
  "language_info": {
   "codemirror_mode": {
    "name": "ipython",
    "version": 3
   },
   "file_extension": ".py",
   "mimetype": "text/x-python",
   "name": "python",
   "nbconvert_exporter": "python",
   "pygments_lexer": "ipython3",
   "version": "3.10.9"
  }
 },
 "nbformat": 4,
 "nbformat_minor": 2
}
